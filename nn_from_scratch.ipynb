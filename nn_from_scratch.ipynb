{
  "nbformat": 4,
  "nbformat_minor": 0,
  "metadata": {
    "colab": {
      "provenance": [],
      "authorship_tag": "ABX9TyOYEJ9atZTBXVycJ7oBDU3I",
      "include_colab_link": true
    },
    "kernelspec": {
      "name": "python3",
      "display_name": "Python 3"
    },
    "language_info": {
      "name": "python"
    }
  },
  "cells": [
    {
      "cell_type": "markdown",
      "metadata": {
        "id": "view-in-github",
        "colab_type": "text"
      },
      "source": [
        "<a href=\"https://colab.research.google.com/github/mohamed-ben-lboukht/nn_from_scratch/blob/main/nn_from_scratch.ipynb\" target=\"_parent\"><img src=\"https://colab.research.google.com/assets/colab-badge.svg\" alt=\"Open In Colab\"/></a>"
      ]
    },
    {
      "cell_type": "markdown",
      "source": [],
      "metadata": {
        "id": "xlt8SFeFKSiH"
      }
    },
    {
      "cell_type": "markdown",
      "source": [
        "#building neural network  from scratch without using torch or tensorflow\n"
      ],
      "metadata": {
        "id": "ueFEXGd8Kbgy"
      }
    },
    {
      "cell_type": "code",
      "source": [
        "import numpy as np\n",
        "import math\n",
        "import matplotlib.pyplot as plt\n",
        "import torch as tr\n",
        "import graphviz\n",
        "from IPython.display import display"
      ],
      "metadata": {
        "id": "EVGwaVcuKg_9"
      },
      "execution_count": 70,
      "outputs": []
    },
    {
      "cell_type": "code",
      "source": [
        "class Value:\n",
        "\n",
        "  def __init__(self, data, _children=(), _op='', label=''):\n",
        "    self.data = data\n",
        "    self.grad = 0.0\n",
        "    self._backward = lambda: None\n",
        "    self._prev = set(_children)\n",
        "    self._op = _op\n",
        "    self.label = label\n",
        "\n",
        "  def __repr__(self):\n",
        "    return f\"Value={self.data}\"\n",
        "\n",
        "  def __add__(self, other):\n",
        "    other = other if isinstance(other, Value) else Value(other)\n",
        "    out = Value(self.data + other.data, (self, other), '+')\n",
        "\n",
        "    def _backward():\n",
        "      self.grad += 1.0 * out.grad\n",
        "      other.grad += 1.0 * out.grad\n",
        "    out._backward = _backward\n",
        "\n",
        "    return out\n",
        "\n",
        "  def __mul__(self, other):\n",
        "    other = other if isinstance(other, Value) else Value(other)\n",
        "    out = Value(self.data * other.data, (self, other), '*')\n",
        "\n",
        "    def _backward():\n",
        "      self.grad += other.data * out.grad\n",
        "      other.grad += self.data * out.grad\n",
        "    out._backward = _backward\n",
        "\n",
        "    return out\n",
        "\n",
        "  def __pow__(self, other):\n",
        "    assert isinstance(other, (int, float))\n",
        "    out = Value(self.data**other, (self,), f'**{other}')\n",
        "\n",
        "    def _backward():\n",
        "        self.grad += other * (self.data ** (other - 1)) * out.grad\n",
        "    out._backward = _backward\n",
        "\n",
        "    return out\n",
        "\n",
        "  def __rmul__(self, other): # other * self\n",
        "    return self * other\n",
        "\n",
        "  def __truediv__(self, other): # self / other\n",
        "    return self * other**-1\n",
        "\n",
        "  def __neg__(self): # -self\n",
        "    return self * -1\n",
        "\n",
        "  def __sub__(self, other): # self - other\n",
        "    return self + (-other)\n",
        "\n",
        "  def __radd__(self, other): # other + self\n",
        "    return self + other\n",
        "\n",
        "  def sigmoid(self):\n",
        "    x = self.data\n",
        "    t = 1/(math.exp(-2*x) + 1)\n",
        "    out = Value(t, (self, ), 'sigm')\n",
        "\n",
        "    def _backward():\n",
        "      self.grad += t * (1 - t) * out.grad\n",
        "    out._backward = _backward\n",
        "\n",
        "    return out\n",
        "  def tanh(self):\n",
        "    x = self.data\n",
        "    t = (math.exp(2*x) - 1)/(math.exp(2*x) + 1)\n",
        "    out = Value(t, (self, ), 'tanh')\n",
        "\n",
        "    def _backward():\n",
        "      self.grad += (1 - t**2) * out.grad\n",
        "    out._backward = _backward\n",
        "\n",
        "    return out\n",
        "\n",
        "  def relu(self):\n",
        "    x = self.data\n",
        "    t = max(0, x)  # ReLU function\n",
        "    out = Value(t, (self,), 'relu')\n",
        "\n",
        "    def _backward():\n",
        "        self.grad += (1 if x > 0 else 0) * out.grad  # Derivative of ReLU: 1 if x > 0, else 0\n",
        "\n",
        "    out._backward = _backward\n",
        "    return out\n",
        "\n",
        "  def backward(self):\n",
        "\n",
        "    topo = []\n",
        "    visited = set()\n",
        "    def build_topo(v):\n",
        "      if v not in visited:\n",
        "        visited.add(v)\n",
        "        for child in v._prev:\n",
        "          build_topo(child)\n",
        "        topo.append(v)\n",
        "    build_topo(self)\n",
        "\n",
        "    self.grad = 1.0\n",
        "    for node in reversed(topo):\n",
        "      node._backward()\n",
        "\n",
        ""
      ],
      "metadata": {
        "id": "YaF_IVriRt9M"
      },
      "execution_count": 71,
      "outputs": []
    },
    {
      "cell_type": "code",
      "source": [
        "a = Value(10)\n",
        "b = Value(20)\n",
        "c = a - b\n",
        "c*=12\n"
      ],
      "metadata": {
        "id": "ZlK5XTNlRxN1"
      },
      "execution_count": 72,
      "outputs": []
    },
    {
      "cell_type": "code",
      "source": [
        "class Neurone:\n",
        "  def __init__(self, nin):\n",
        "    self.w = [Value(np.random.uniform(-1,1)) for _ in range(nin)]\n",
        "    self.b = Value(np.random.uniform(-1,1))\n",
        "\n",
        "  def __call__(self, x):\n",
        "    act = sum((wi*xi for wi, xi in zip(self.w, x)), self.b)\n",
        "    out = act.tanh()\n",
        "    return out\n",
        "\n",
        "  def parameters(self):\n",
        "    return self.w + [self.b]\n",
        "\n",
        "\n",
        "\n",
        "\n"
      ],
      "metadata": {
        "id": "NCE786nyTsAt"
      },
      "execution_count": 73,
      "outputs": []
    },
    {
      "cell_type": "code",
      "source": [
        "x = [2.0, 3.0, -1.0]\n",
        "n = Neurone(3)\n",
        "n(x)"
      ],
      "metadata": {
        "colab": {
          "base_uri": "https://localhost:8080/"
        },
        "id": "ZEwCPtuwpM06",
        "outputId": "8b71e24d-7058-4dd3-b4fa-455846762351"
      },
      "execution_count": 74,
      "outputs": [
        {
          "output_type": "execute_result",
          "data": {
            "text/plain": [
              "Value=-0.9144563021394371"
            ]
          },
          "metadata": {},
          "execution_count": 74
        }
      ]
    },
    {
      "cell_type": "code",
      "source": [
        "class Layer():\n",
        "  def __init__(self, nin, nout):\n",
        "    self.neurons = [Neurone(nin) for _ in range(nout)]\n",
        "\n",
        "  def __call__(self, x):\n",
        "    outs = [n(x) for n in self.neurons]\n",
        "    return outs[0] if len(outs) == 1 else outs\n",
        "\n",
        "  def parameters(self):\n",
        "    return [p for neuron in self.neurons for p in neuron.parameters()]"
      ],
      "metadata": {
        "id": "BkT7JCkcTsYu"
      },
      "execution_count": 75,
      "outputs": []
    },
    {
      "cell_type": "code",
      "source": [
        "class nn():\n",
        "  def __init__(self,nin,nouts):\n",
        "    size = [nin] + nouts\n",
        "    self.layers = [Layer(size[i], size[i+1]) for i in range(len(nouts))]\n",
        "    self.loss = None\n",
        "    self._params = self.parameters()\n",
        "    self.size = size\n",
        "  def parameters(self):\n",
        "    return [p for layer in self.layers for p in layer.parameters()]\n",
        "\n",
        "  def zero_grad(self):\n",
        "    for p in self.parameters():\n",
        "      p.grad = 0.0\n",
        "\n",
        "  def __call__(self, x):\n",
        "    for layer in self.layers:\n",
        "      x = layer(x)\n",
        "    return x\n",
        "  def train(self,xs,ys,epochs=10,alpha=0.01):\n",
        "    for k in range(epochs):\n",
        "      # forward pass\n",
        "      ypred = [n(x) for x in xs]\n",
        "      loss = sum((yout - ygt)**2 for ygt, yout in zip(ys, ypred))\n",
        "\n",
        "      # backward pass\n",
        "      self.zero_grad()\n",
        "      loss.backward()\n",
        "\n",
        "      # update\n",
        "      for p in n.parameters():\n",
        "        p.data += -alpha * p.grad\n",
        "\n",
        "      print(k, loss.data)\n",
        "      self.loss = loss.data\n",
        "\n",
        "\n",
        "  def __repr__(self):\n",
        "    dot = graphviz.Digraph(format='png')\n",
        "    dot.attr(rankdir='LR')  # Left to Right layout\n",
        "\n",
        "    # Add input layer nodes\n",
        "    for i in range(self.size[0]):\n",
        "        dot.node(f'I{i}', shape='circle', color='red', label=f\"x{i}\")\n",
        "\n",
        "    # Keep track of neuron indices per layer\n",
        "    neuron_count = 0\n",
        "\n",
        "    # Add hidden and output layers\n",
        "    for layer_idx, layer in enumerate(self.layers):\n",
        "        for j, neuron in enumerate(layer.neurons):  # Iterate neurons in the layer\n",
        "            node_id = f'L{layer_idx + 1}_{j}'\n",
        "            color = 'blue' if layer_idx < len(self.layers) - 1 else 'green'\n",
        "            neuron_label = f\"h{neuron_count}\" if layer_idx < len(self.layers) - 1 else f\"y{j}\"\n",
        "            neuron_count += 1  # Ensure proper ranking\n",
        "\n",
        "            # Include bias in the label\n",
        "            bias_value = round(neuron.b.data, 2)\n",
        "            dot.node(node_id, shape='circle', color=color, label=f\"{neuron_label}\\n(b={bias_value})\")\n",
        "\n",
        "            # Connect previous layer to current layer with real weights\n",
        "            for k, weight in enumerate(neuron.w):  # Get each neuron's weights\n",
        "                prev_id = f'L{layer_idx}_{k}' if layer_idx > 0 else f'I{k}'\n",
        "                weight_value = round(weight.data, 2)  # Extract real weight value\n",
        "                dot.edge(prev_id, node_id, label=f\"W{k}{j}={weight_value}\")  # Show real weight\n",
        "\n",
        "    # Labels for clarity\n",
        "    dot.node(\"\", shape=\"plaintext\", color=\"red\", fontsize=\"14\")\n",
        "    dot.edge(\"\", \"I0\", style=\"invis\")\n",
        "\n",
        "    dot.node(\"\", shape=\"plaintext\", color=\"blue\", fontsize=\"14\")\n",
        "    dot.edge(\"\", f\"L1_0\", style=\"invis\")\n",
        "\n",
        "    dot.node(\"\", shape=\"plaintext\", color=\"green\", fontsize=\"14\")\n",
        "    dot.edge(\"\", f\"L{len(self.size) - 1}_0\", style=\"invis\")\n",
        "\n",
        "    display(dot)\n",
        "\n",
        "    return \"Neural network visualization displayed.\"\n",
        "\n",
        "\n",
        "\n",
        "\n",
        "\n",
        ""
      ],
      "metadata": {
        "id": "qgoRrba4V5az"
      },
      "execution_count": 132,
      "outputs": []
    },
    {
      "cell_type": "code",
      "source": [
        "xs = [\n",
        "  [2.0, 3.0, -1.0],\n",
        "  [3.0, -1.0, 0.5],\n",
        "  [0.5, 1.0, 1.0],\n",
        "  [1.0, 1.0, -1.0],\n",
        "]\n",
        "ys = [1.0, -1.0, -1.0, 1.0]\n",
        "\n",
        "\n",
        "n = nn(3, [4, 4, 1])\n",
        "n.train(xs, ys,alpha=0.05)"
      ],
      "metadata": {
        "id": "lkReusABDb0e",
        "outputId": "4e2c2cd1-b9ea-4c1c-9822-46ce6c227a8e",
        "colab": {
          "base_uri": "https://localhost:8080/"
        }
      },
      "execution_count": 133,
      "outputs": [
        {
          "output_type": "stream",
          "name": "stdout",
          "text": [
            "0 2.766769371362662\n",
            "1 1.0765167595207732\n",
            "2 0.5997289792988432\n",
            "3 0.3964448440498987\n",
            "4 0.2884003794989584\n",
            "5 0.22333567550416306\n",
            "6 0.1806106741111237\n",
            "7 0.15072840605564897\n",
            "8 0.12881049680201803\n",
            "9 0.1121297751769512\n"
          ]
        }
      ]
    },
    {
      "cell_type": "code",
      "source": [
        "n([2.0, 3.0, -1.0])"
      ],
      "metadata": {
        "id": "1YdyVAu5EGYC",
        "outputId": "2452dcf3-3b06-423f-d8fc-7d5c1476ddfd",
        "colab": {
          "base_uri": "https://localhost:8080/"
        }
      },
      "execution_count": 134,
      "outputs": [
        {
          "output_type": "execute_result",
          "data": {
            "text/plain": [
              "Value=0.8225878334709512"
            ]
          },
          "metadata": {},
          "execution_count": 134
        }
      ]
    },
    {
      "cell_type": "code",
      "source": [
        "n"
      ],
      "metadata": {
        "id": "Rx84Xj1yExLn",
        "outputId": "4009e2c0-4b66-4a0b-901b-f6f9c54618ab",
        "colab": {
          "base_uri": "https://localhost:8080/",
          "height": 856
        }
      },
      "execution_count": 135,
      "outputs": [
        {
          "output_type": "display_data",
          "data": {
            "image/svg+xml": "<?xml version=\"1.0\" encoding=\"UTF-8\" standalone=\"no\"?>\n<!DOCTYPE svg PUBLIC \"-//W3C//DTD SVG 1.1//EN\"\n \"http://www.w3.org/Graphics/SVG/1.1/DTD/svg11.dtd\">\n<!-- Generated by graphviz version 2.43.0 (0)\n -->\n<!-- Title: %3 Pages: 1 -->\n<svg width=\"731pt\" height=\"613pt\"\n viewBox=\"0.00 0.00 730.74 613.00\" xmlns=\"http://www.w3.org/2000/svg\" xmlns:xlink=\"http://www.w3.org/1999/xlink\">\n<g id=\"graph0\" class=\"graph\" transform=\"scale(1 1) rotate(0) translate(4 609)\">\n<title>%3</title>\n<polygon fill=\"white\" stroke=\"transparent\" points=\"-4,4 -4,-609 726.74,-609 726.74,4 -4,4\"/>\n<!-- I0 -->\n<g id=\"node1\" class=\"node\">\n<title>I0</title>\n<ellipse fill=\"none\" stroke=\"red\" cx=\"110.5\" cy=\"-147\" rx=\"19.5\" ry=\"19.5\"/>\n<text text-anchor=\"middle\" x=\"110.5\" y=\"-143.3\" font-family=\"Times,serif\" font-size=\"14.00\">x0</text>\n</g>\n<!-- L1_0 -->\n<g id=\"node4\" class=\"node\">\n<title>L1_0</title>\n<ellipse fill=\"none\" stroke=\"blue\" cx=\"278.79\" cy=\"-109\" rx=\"45.92\" ry=\"45.92\"/>\n<text text-anchor=\"middle\" x=\"278.79\" y=\"-112.8\" font-family=\"Times,serif\" font-size=\"14.00\">h0</text>\n<text text-anchor=\"middle\" x=\"278.79\" y=\"-97.8\" font-family=\"Times,serif\" font-size=\"14.00\">(b=0.16)</text>\n</g>\n<!-- I0&#45;&gt;L1_0 -->\n<g id=\"edge1\" class=\"edge\">\n<title>I0&#45;&gt;L1_0</title>\n<path fill=\"none\" stroke=\"black\" d=\"M122.38,-131.11C128.81,-123.17 137.69,-114.36 148,-110 171.42,-100.1 199.42,-98.73 223.41,-100.3\"/>\n<polygon fill=\"black\" stroke=\"black\" points=\"223.16,-103.79 233.42,-101.14 223.75,-96.82 223.16,-103.79\"/>\n<text text-anchor=\"middle\" x=\"180\" y=\"-113.8\" font-family=\"Times,serif\" font-size=\"14.00\">W00=&#45;0.68</text>\n</g>\n<!-- L1_1 -->\n<g id=\"node5\" class=\"node\">\n<title>L1_1</title>\n<ellipse fill=\"none\" stroke=\"blue\" cx=\"278.79\" cy=\"-376\" rx=\"48.58\" ry=\"48.58\"/>\n<text text-anchor=\"middle\" x=\"278.79\" y=\"-379.8\" font-family=\"Times,serif\" font-size=\"14.00\">h1</text>\n<text text-anchor=\"middle\" x=\"278.79\" y=\"-364.8\" font-family=\"Times,serif\" font-size=\"14.00\">(b=&#45;0.39)</text>\n</g>\n<!-- I0&#45;&gt;L1_1 -->\n<g id=\"edge4\" class=\"edge\">\n<title>I0&#45;&gt;L1_1</title>\n<path fill=\"none\" stroke=\"black\" d=\"M128.48,-154.73C134.59,-157.44 141.57,-160.44 148,-163 176.08,-174.19 192.98,-162.51 212,-186 249.26,-232.02 206.27,-263.75 230,-318 232.22,-323.08 235.02,-328.07 238.15,-332.87\"/>\n<polygon fill=\"black\" stroke=\"black\" points=\"235.45,-335.11 244.07,-341.25 241.16,-331.07 235.45,-335.11\"/>\n<text text-anchor=\"middle\" x=\"180\" y=\"-189.8\" font-family=\"Times,serif\" font-size=\"14.00\">W01=0.19</text>\n</g>\n<!-- L1_2 -->\n<g id=\"node6\" class=\"node\">\n<title>L1_2</title>\n<ellipse fill=\"none\" stroke=\"blue\" cx=\"278.79\" cy=\"-260\" rx=\"48.58\" ry=\"48.58\"/>\n<text text-anchor=\"middle\" x=\"278.79\" y=\"-263.8\" font-family=\"Times,serif\" font-size=\"14.00\">h2</text>\n<text text-anchor=\"middle\" x=\"278.79\" y=\"-248.8\" font-family=\"Times,serif\" font-size=\"14.00\">(b=&#45;0.12)</text>\n</g>\n<!-- I0&#45;&gt;L1_2 -->\n<g id=\"edge7\" class=\"edge\">\n<title>I0&#45;&gt;L1_2</title>\n<path fill=\"none\" stroke=\"black\" d=\"M129.59,-142.15C150.85,-137.52 186.48,-133.22 212,-148 224.03,-154.97 239.74,-181.23 252.8,-206.56\"/>\n<polygon fill=\"black\" stroke=\"black\" points=\"249.84,-208.47 257.47,-215.82 256.09,-205.32 249.84,-208.47\"/>\n<text text-anchor=\"middle\" x=\"180\" y=\"-151.8\" font-family=\"Times,serif\" font-size=\"14.00\">W02=&#45;0.29</text>\n</g>\n<!-- L1_3 -->\n<g id=\"node7\" class=\"node\">\n<title>L1_3</title>\n<ellipse fill=\"none\" stroke=\"blue\" cx=\"278.79\" cy=\"-527\" rx=\"45.92\" ry=\"45.92\"/>\n<text text-anchor=\"middle\" x=\"278.79\" y=\"-530.8\" font-family=\"Times,serif\" font-size=\"14.00\">h3</text>\n<text text-anchor=\"middle\" x=\"278.79\" y=\"-515.8\" font-family=\"Times,serif\" font-size=\"14.00\">(b=0.03)</text>\n</g>\n<!-- I0&#45;&gt;L1_3 -->\n<g id=\"edge10\" class=\"edge\">\n<title>I0&#45;&gt;L1_3</title>\n<path fill=\"none\" stroke=\"black\" d=\"M119.32,-164.45C125.5,-176.36 135.22,-191.63 148,-201 171.93,-218.54 193.27,-196.99 212,-220 242.12,-257.02 216.84,-388.13 230,-434 234.39,-449.32 241.39,-465.06 248.69,-479.14\"/>\n<polygon fill=\"black\" stroke=\"black\" points=\"245.7,-480.97 253.51,-488.13 251.87,-477.67 245.7,-480.97\"/>\n<text text-anchor=\"middle\" x=\"180\" y=\"-223.8\" font-family=\"Times,serif\" font-size=\"14.00\">W03=0.88</text>\n</g>\n<!-- I1 -->\n<g id=\"node2\" class=\"node\">\n<title>I1</title>\n<ellipse fill=\"none\" stroke=\"red\" cx=\"110.5\" cy=\"-318\" rx=\"19.5\" ry=\"19.5\"/>\n<text text-anchor=\"middle\" x=\"110.5\" y=\"-314.3\" font-family=\"Times,serif\" font-size=\"14.00\">x1</text>\n</g>\n<!-- I1&#45;&gt;L1_0 -->\n<g id=\"edge2\" class=\"edge\">\n<title>I1&#45;&gt;L1_0</title>\n<path fill=\"none\" stroke=\"black\" d=\"M118.96,-300.29C125.08,-287.72 134.88,-271.31 148,-261 171.64,-242.41 189.47,-258.94 212,-239 225.69,-226.88 221.82,-218.36 230,-202 237.06,-187.88 244.83,-172.63 252.03,-158.63\"/>\n<polygon fill=\"black\" stroke=\"black\" points=\"255.19,-160.14 256.66,-149.64 248.97,-156.93 255.19,-160.14\"/>\n<text text-anchor=\"middle\" x=\"180\" y=\"-264.8\" font-family=\"Times,serif\" font-size=\"14.00\">W10=0.49</text>\n</g>\n<!-- I1&#45;&gt;L1_1 -->\n<g id=\"edge5\" class=\"edge\">\n<title>I1&#45;&gt;L1_1</title>\n<path fill=\"none\" stroke=\"black\" d=\"M130.15,-319.86C150.72,-322.34 184.53,-327.66 212,-338 217.45,-340.05 222.99,-342.53 228.41,-345.23\"/>\n<polygon fill=\"black\" stroke=\"black\" points=\"226.91,-348.39 237.39,-349.93 230.16,-342.19 226.91,-348.39\"/>\n<text text-anchor=\"middle\" x=\"180\" y=\"-341.8\" font-family=\"Times,serif\" font-size=\"14.00\">W11=&#45;0.18</text>\n</g>\n<!-- I1&#45;&gt;L1_2 -->\n<g id=\"edge8\" class=\"edge\">\n<title>I1&#45;&gt;L1_2</title>\n<path fill=\"none\" stroke=\"black\" d=\"M128.85,-310.58C134.88,-308.08 141.7,-305.33 148,-303 172.15,-294.05 199.14,-284.96 222.23,-277.46\"/>\n<polygon fill=\"black\" stroke=\"black\" points=\"223.42,-280.75 231.86,-274.35 221.27,-274.09 223.42,-280.75\"/>\n<text text-anchor=\"middle\" x=\"180\" y=\"-306.8\" font-family=\"Times,serif\" font-size=\"14.00\">W12=0.51</text>\n</g>\n<!-- I1&#45;&gt;L1_3 -->\n<g id=\"edge11\" class=\"edge\">\n<title>I1&#45;&gt;L1_3</title>\n<path fill=\"none\" stroke=\"black\" d=\"M123.87,-332.44C130.46,-339.41 139.04,-347.45 148,-353 173.69,-368.92 191.1,-354.16 212,-376 230.66,-395.5 219.79,-409.01 230,-434 235.97,-448.61 243.39,-464.03 250.6,-478.01\"/>\n<polygon fill=\"black\" stroke=\"black\" points=\"247.55,-479.74 255.29,-486.98 253.75,-476.49 247.55,-479.74\"/>\n<text text-anchor=\"middle\" x=\"180\" y=\"-379.8\" font-family=\"Times,serif\" font-size=\"14.00\">W13=0.55</text>\n</g>\n<!-- I2 -->\n<g id=\"node3\" class=\"node\">\n<title>I2</title>\n<ellipse fill=\"none\" stroke=\"red\" cx=\"110.5\" cy=\"-470\" rx=\"19.5\" ry=\"19.5\"/>\n<text text-anchor=\"middle\" x=\"110.5\" y=\"-466.3\" font-family=\"Times,serif\" font-size=\"14.00\">x2</text>\n</g>\n<!-- I2&#45;&gt;L1_0 -->\n<g id=\"edge3\" class=\"edge\">\n<title>I2&#45;&gt;L1_0</title>\n<path fill=\"none\" stroke=\"black\" d=\"M118.23,-452.03C124.14,-438.61 133.99,-420.79 148,-410 171.5,-391.89 193.14,-413.91 212,-391 238.81,-358.42 218.14,-242.49 230,-202 234.47,-186.71 241.5,-170.97 248.8,-156.89\"/>\n<polygon fill=\"black\" stroke=\"black\" points=\"251.98,-158.36 253.61,-147.9 245.81,-155.06 251.98,-158.36\"/>\n<text text-anchor=\"middle\" x=\"180\" y=\"-413.8\" font-family=\"Times,serif\" font-size=\"14.00\">W20=&#45;1.03</text>\n</g>\n<!-- I2&#45;&gt;L1_1 -->\n<g id=\"edge6\" class=\"edge\">\n<title>I2&#45;&gt;L1_1</title>\n<path fill=\"none\" stroke=\"black\" d=\"M129.77,-474.05C150.9,-477.73 186.09,-480.73 212,-467 228.12,-458.45 241.25,-443.99 251.42,-429.07\"/>\n<polygon fill=\"black\" stroke=\"black\" points=\"254.61,-430.59 257.07,-420.28 248.72,-426.8 254.61,-430.59\"/>\n<text text-anchor=\"middle\" x=\"180\" y=\"-480.8\" font-family=\"Times,serif\" font-size=\"14.00\">W21=0.89</text>\n</g>\n<!-- I2&#45;&gt;L1_2 -->\n<g id=\"edge9\" class=\"edge\">\n<title>I2&#45;&gt;L1_2</title>\n<path fill=\"none\" stroke=\"black\" d=\"M127.02,-459.45C133.33,-455.48 140.82,-451.17 148,-448 175.14,-436.02 192.4,-451.28 212,-429 245.01,-391.48 209.39,-363.53 230,-318 232.28,-312.95 235.13,-307.98 238.28,-303.19\"/>\n<polygon fill=\"black\" stroke=\"black\" points=\"241.29,-305 244.24,-294.82 235.59,-300.94 241.29,-305\"/>\n<text text-anchor=\"middle\" x=\"180\" y=\"-451.8\" font-family=\"Times,serif\" font-size=\"14.00\">W22=&#45;0.36</text>\n</g>\n<!-- I2&#45;&gt;L1_3 -->\n<g id=\"edge12\" class=\"edge\">\n<title>I2&#45;&gt;L1_3</title>\n<path fill=\"none\" stroke=\"black\" d=\"M123.49,-485.13C129.98,-492.28 138.59,-500.26 148,-505 170.95,-516.55 198.78,-522.2 222.77,-524.9\"/>\n<polygon fill=\"black\" stroke=\"black\" points=\"222.5,-528.39 232.79,-525.89 223.19,-521.42 222.5,-528.39\"/>\n<text text-anchor=\"middle\" x=\"180\" y=\"-526.8\" font-family=\"Times,serif\" font-size=\"14.00\">W23=0.79</text>\n</g>\n<!-- L2_0 -->\n<g id=\"node8\" class=\"node\">\n<title>L2_0</title>\n<ellipse fill=\"none\" stroke=\"blue\" cx=\"476.37\" cy=\"-122\" rx=\"45.92\" ry=\"45.92\"/>\n<text text-anchor=\"middle\" x=\"476.37\" y=\"-125.8\" font-family=\"Times,serif\" font-size=\"14.00\">h4</text>\n<text text-anchor=\"middle\" x=\"476.37\" y=\"-110.8\" font-family=\"Times,serif\" font-size=\"14.00\">(b=0.96)</text>\n</g>\n<!-- L1_0&#45;&gt;L2_0 -->\n<g id=\"edge13\" class=\"edge\">\n<title>L1_0&#45;&gt;L2_0</title>\n<path fill=\"none\" stroke=\"black\" d=\"M303.55,-70.13C314.43,-56 328.7,-41.65 345.58,-34 371.49,-22.26 384.15,-21.26 409.58,-34 426.27,-42.36 439.82,-57.19 450.18,-72.32\"/>\n<polygon fill=\"black\" stroke=\"black\" points=\"447.24,-74.23 455.61,-80.72 453.12,-70.42 447.24,-74.23\"/>\n<text text-anchor=\"middle\" x=\"377.58\" y=\"-37.8\" font-family=\"Times,serif\" font-size=\"14.00\">W00=0.57</text>\n</g>\n<!-- L2_1 -->\n<g id=\"node9\" class=\"node\">\n<title>L2_1</title>\n<ellipse fill=\"none\" stroke=\"blue\" cx=\"476.37\" cy=\"-335\" rx=\"48.58\" ry=\"48.58\"/>\n<text text-anchor=\"middle\" x=\"476.37\" y=\"-338.8\" font-family=\"Times,serif\" font-size=\"14.00\">h5</text>\n<text text-anchor=\"middle\" x=\"476.37\" y=\"-323.8\" font-family=\"Times,serif\" font-size=\"14.00\">(b=&#45;0.78)</text>\n</g>\n<!-- L1_0&#45;&gt;L2_1 -->\n<g id=\"edge17\" class=\"edge\">\n<title>L1_0&#45;&gt;L2_1</title>\n<path fill=\"none\" stroke=\"black\" d=\"M323.01,-96.02C351.13,-90.46 386.69,-89.29 409.58,-110 437.25,-135.05 413.1,-242.6 427.58,-277 429.76,-282.19 432.56,-287.27 435.72,-292.14\"/>\n<polygon fill=\"black\" stroke=\"black\" points=\"433.09,-294.49 441.71,-300.65 438.81,-290.46 433.09,-294.49\"/>\n<text text-anchor=\"middle\" x=\"377.58\" y=\"-113.8\" font-family=\"Times,serif\" font-size=\"14.00\">W01=0.0</text>\n</g>\n<!-- L2_2 -->\n<g id=\"node10\" class=\"node\">\n<title>L2_2</title>\n<ellipse fill=\"none\" stroke=\"blue\" cx=\"476.37\" cy=\"-451\" rx=\"48.58\" ry=\"48.58\"/>\n<text text-anchor=\"middle\" x=\"476.37\" y=\"-454.8\" font-family=\"Times,serif\" font-size=\"14.00\">h6</text>\n<text text-anchor=\"middle\" x=\"476.37\" y=\"-439.8\" font-family=\"Times,serif\" font-size=\"14.00\">(b=&#45;0.83)</text>\n</g>\n<!-- L1_0&#45;&gt;L2_2 -->\n<g id=\"edge21\" class=\"edge\">\n<title>L1_0&#45;&gt;L2_2</title>\n<path fill=\"none\" stroke=\"black\" d=\"M323.82,-119.59C360.33,-128.57 406.72,-140.53 409.58,-144 444.88,-186.79 406.96,-341.49 427.58,-393 429.67,-398.22 432.41,-403.33 435.53,-408.22\"/>\n<polygon fill=\"black\" stroke=\"black\" points=\"432.88,-410.55 441.48,-416.75 438.62,-406.54 432.88,-410.55\"/>\n<text text-anchor=\"middle\" x=\"377.58\" y=\"-147.8\" font-family=\"Times,serif\" font-size=\"14.00\">W02=&#45;0.19</text>\n</g>\n<!-- L2_3 -->\n<g id=\"node11\" class=\"node\">\n<title>L2_3</title>\n<ellipse fill=\"none\" stroke=\"blue\" cx=\"476.37\" cy=\"-227\" rx=\"41.02\" ry=\"41.02\"/>\n<text text-anchor=\"middle\" x=\"476.37\" y=\"-230.8\" font-family=\"Times,serif\" font-size=\"14.00\">h7</text>\n<text text-anchor=\"middle\" x=\"476.37\" y=\"-215.8\" font-family=\"Times,serif\" font-size=\"14.00\">(b=0.6)</text>\n</g>\n<!-- L1_0&#45;&gt;L2_3 -->\n<g id=\"edge25\" class=\"edge\">\n<title>L1_0&#45;&gt;L2_3</title>\n<path fill=\"none\" stroke=\"black\" d=\"M316.31,-82.34C344.62,-65.19 383.33,-49.87 409.58,-72 445.78,-102.52 406.29,-134.71 427.58,-177 430.41,-182.63 434.09,-188.06 438.16,-193.12\"/>\n<polygon fill=\"black\" stroke=\"black\" points=\"435.59,-195.5 444.79,-200.76 440.88,-190.92 435.59,-195.5\"/>\n<text text-anchor=\"middle\" x=\"377.58\" y=\"-75.8\" font-family=\"Times,serif\" font-size=\"14.00\">W03=1.11</text>\n</g>\n<!-- L1_1&#45;&gt;L2_0 -->\n<g id=\"edge14\" class=\"edge\">\n<title>L1_1&#45;&gt;L2_0</title>\n<path fill=\"none\" stroke=\"black\" d=\"M319.14,-348.38C327.62,-343.15 336.7,-338.05 345.58,-334 372.57,-321.67 390.33,-337.58 409.58,-315 449.71,-267.93 402.21,-233.41 427.58,-177 429.97,-171.68 433.05,-166.49 436.5,-161.56\"/>\n<polygon fill=\"black\" stroke=\"black\" points=\"439.33,-163.61 442.58,-153.52 433.75,-159.38 439.33,-163.61\"/>\n<text text-anchor=\"middle\" x=\"377.58\" y=\"-337.8\" font-family=\"Times,serif\" font-size=\"14.00\">W10=0.41</text>\n</g>\n<!-- L1_1&#45;&gt;L2_1 -->\n<g id=\"edge18\" class=\"edge\">\n<title>L1_1&#45;&gt;L2_1</title>\n<path fill=\"none\" stroke=\"black\" d=\"M325.15,-391.24C350.64,-397.36 382.65,-400.91 409.58,-391 418.36,-387.77 426.78,-382.78 434.48,-377.09\"/>\n<polygon fill=\"black\" stroke=\"black\" points=\"436.88,-379.65 442.54,-370.69 432.53,-374.17 436.88,-379.65\"/>\n<text text-anchor=\"middle\" x=\"377.58\" y=\"-400.8\" font-family=\"Times,serif\" font-size=\"14.00\">W11=0.28</text>\n</g>\n<!-- L1_1&#45;&gt;L2_2 -->\n<g id=\"edge22\" class=\"edge\">\n<title>L1_1&#45;&gt;L2_2</title>\n<path fill=\"none\" stroke=\"black\" d=\"M319.89,-402.83C328.16,-407.65 336.98,-412.31 345.58,-416 368.65,-425.89 395.26,-433.65 418.35,-439.32\"/>\n<polygon fill=\"black\" stroke=\"black\" points=\"417.8,-442.79 428.34,-441.7 419.43,-435.98 417.8,-442.79\"/>\n<text text-anchor=\"middle\" x=\"377.58\" y=\"-439.8\" font-family=\"Times,serif\" font-size=\"14.00\">W12=0.85</text>\n</g>\n<!-- L1_1&#45;&gt;L2_3 -->\n<g id=\"edge26\" class=\"edge\">\n<title>L1_1&#45;&gt;L2_3</title>\n<path fill=\"none\" stroke=\"black\" d=\"M327.73,-372.95C359.67,-369.93 397.85,-364.08 409.58,-353 434.81,-329.17 411.01,-307.5 427.58,-277 430.55,-271.53 434.28,-266.22 438.33,-261.24\"/>\n<polygon fill=\"black\" stroke=\"black\" points=\"440.98,-263.54 444.92,-253.7 435.7,-258.93 440.98,-263.54\"/>\n<text text-anchor=\"middle\" x=\"377.58\" y=\"-373.8\" font-family=\"Times,serif\" font-size=\"14.00\">W13=0.03</text>\n</g>\n<!-- L1_2&#45;&gt;L2_0 -->\n<g id=\"edge15\" class=\"edge\">\n<title>L1_2&#45;&gt;L2_0</title>\n<path fill=\"none\" stroke=\"black\" d=\"M313.63,-225.78C323.52,-216.59 334.63,-206.98 345.58,-199 371.95,-179.77 381.5,-179.63 409.58,-163 415.57,-159.45 421.82,-155.66 427.99,-151.88\"/>\n<polygon fill=\"black\" stroke=\"black\" points=\"430.26,-154.59 436.93,-146.36 426.58,-148.63 430.26,-154.59\"/>\n<text text-anchor=\"middle\" x=\"377.58\" y=\"-202.8\" font-family=\"Times,serif\" font-size=\"14.00\">W20=0.23</text>\n</g>\n<!-- L1_2&#45;&gt;L2_1 -->\n<g id=\"edge19\" class=\"edge\">\n<title>L1_2&#45;&gt;L2_1</title>\n<path fill=\"none\" stroke=\"black\" d=\"M327.12,-251.86C352.64,-249.61 384.03,-250.4 409.58,-262 413.61,-263.83 425.18,-276.17 437.52,-290.21\"/>\n<polygon fill=\"black\" stroke=\"black\" points=\"435.21,-292.88 444.41,-298.12 440.49,-288.28 435.21,-292.88\"/>\n<text text-anchor=\"middle\" x=\"377.58\" y=\"-265.8\" font-family=\"Times,serif\" font-size=\"14.00\">W21=0.4</text>\n</g>\n<!-- L1_2&#45;&gt;L2_2 -->\n<g id=\"edge23\" class=\"edge\">\n<title>L1_2&#45;&gt;L2_2</title>\n<path fill=\"none\" stroke=\"black\" d=\"M326.13,-271.79C360.99,-281.07 403.73,-293.49 409.58,-300 437.7,-331.33 409.64,-354.91 427.58,-393 429.94,-398.02 432.84,-402.97 436.02,-407.73\"/>\n<polygon fill=\"black\" stroke=\"black\" points=\"433.34,-410 442.02,-416.09 439.03,-405.92 433.34,-410\"/>\n<text text-anchor=\"middle\" x=\"377.58\" y=\"-303.8\" font-family=\"Times,serif\" font-size=\"14.00\">W22=&#45;0.35</text>\n</g>\n<!-- L1_2&#45;&gt;L2_3 -->\n<g id=\"edge27\" class=\"edge\">\n<title>L1_2&#45;&gt;L2_3</title>\n<path fill=\"none\" stroke=\"black\" d=\"M320.24,-233.82C328.34,-229.76 337,-226.19 345.58,-224 371.47,-217.38 401.22,-217.54 425.69,-219.61\"/>\n<polygon fill=\"black\" stroke=\"black\" points=\"425.54,-223.11 435.84,-220.6 426.23,-216.15 425.54,-223.11\"/>\n<text text-anchor=\"middle\" x=\"377.58\" y=\"-227.8\" font-family=\"Times,serif\" font-size=\"14.00\">W23=&#45;0.02</text>\n</g>\n<!-- L1_3&#45;&gt;L2_0 -->\n<g id=\"edge16\" class=\"edge\">\n<title>L1_3&#45;&gt;L2_0</title>\n<path fill=\"none\" stroke=\"black\" d=\"M317.99,-502.24C326.94,-496.71 336.5,-491.01 345.58,-486 373.25,-470.73 391.94,-481.22 409.58,-455 444.13,-403.63 404.04,-234.26 427.58,-177 429.83,-171.53 432.85,-166.22 436.29,-161.2\"/>\n<polygon fill=\"black\" stroke=\"black\" points=\"439.2,-163.14 442.4,-153.04 433.6,-158.94 439.2,-163.14\"/>\n<text text-anchor=\"middle\" x=\"377.58\" y=\"-489.8\" font-family=\"Times,serif\" font-size=\"14.00\">W30=&#45;0.25</text>\n</g>\n<!-- L1_3&#45;&gt;L2_1 -->\n<g id=\"edge20\" class=\"edge\">\n<title>L1_3&#45;&gt;L2_1</title>\n<path fill=\"none\" stroke=\"black\" d=\"M320.63,-546.76C348.95,-557.28 385.72,-564.17 409.58,-543 434.69,-520.72 414.37,-423.87 427.58,-393 429.76,-387.9 432.53,-382.9 435.64,-378.1\"/>\n<polygon fill=\"black\" stroke=\"black\" points=\"438.66,-379.89 441.55,-369.7 432.93,-375.87 438.66,-379.89\"/>\n<text text-anchor=\"middle\" x=\"377.58\" y=\"-559.8\" font-family=\"Times,serif\" font-size=\"14.00\">W31=&#45;0.13</text>\n</g>\n<!-- L1_3&#45;&gt;L2_2 -->\n<g id=\"edge24\" class=\"edge\">\n<title>L1_3&#45;&gt;L2_2</title>\n<path fill=\"none\" stroke=\"black\" d=\"M311.11,-560.02C321.21,-568.51 333.06,-576.52 345.58,-581 372.36,-590.58 385.34,-595.9 409.58,-581 435.49,-565.07 451.57,-535.43 461.34,-508.47\"/>\n<polygon fill=\"black\" stroke=\"black\" points=\"464.76,-509.28 464.67,-498.69 458.14,-507.03 464.76,-509.28\"/>\n<text text-anchor=\"middle\" x=\"377.58\" y=\"-593.8\" font-family=\"Times,serif\" font-size=\"14.00\">W32=0.96</text>\n</g>\n<!-- L1_3&#45;&gt;L2_3 -->\n<g id=\"edge28\" class=\"edge\">\n<title>L1_3&#45;&gt;L2_3</title>\n<path fill=\"none\" stroke=\"black\" d=\"M324.85,-525.12C357.69,-522.74 398.32,-517.31 409.58,-505 443.88,-467.5 406.82,-323.39 427.58,-277 430.15,-271.25 433.68,-265.75 437.66,-260.65\"/>\n<polygon fill=\"black\" stroke=\"black\" points=\"440.39,-262.85 444.23,-252.97 435.07,-258.3 440.39,-262.85\"/>\n<text text-anchor=\"middle\" x=\"377.58\" y=\"-525.8\" font-family=\"Times,serif\" font-size=\"14.00\">W33=&#45;0.71</text>\n</g>\n<!-- L3_0 -->\n<g id=\"node12\" class=\"node\">\n<title>L3_0</title>\n<ellipse fill=\"none\" stroke=\"green\" cx=\"673.95\" cy=\"-227\" rx=\"48.58\" ry=\"48.58\"/>\n<text text-anchor=\"middle\" x=\"673.95\" y=\"-230.8\" font-family=\"Times,serif\" font-size=\"14.00\">y0</text>\n<text text-anchor=\"middle\" x=\"673.95\" y=\"-215.8\" font-family=\"Times,serif\" font-size=\"14.00\">(b=&#45;0.15)</text>\n</g>\n<!-- L2_0&#45;&gt;L3_0 -->\n<g id=\"edge29\" class=\"edge\">\n<title>L2_0&#45;&gt;L3_0</title>\n<path fill=\"none\" stroke=\"black\" d=\"M517.42,-143.5C547.55,-159.68 589.09,-181.98 621.65,-199.46\"/>\n<polygon fill=\"black\" stroke=\"black\" points=\"620.12,-202.61 630.58,-204.26 623.43,-196.44 620.12,-202.61\"/>\n<text text-anchor=\"middle\" x=\"575.16\" y=\"-193.8\" font-family=\"Times,serif\" font-size=\"14.00\">W00=&#45;0.12</text>\n</g>\n<!-- L2_1&#45;&gt;L3_0 -->\n<g id=\"edge30\" class=\"edge\">\n<title>L2_1&#45;&gt;L3_0</title>\n<path fill=\"none\" stroke=\"black\" d=\"M519.32,-311.83C549.39,-295.23 590.03,-272.79 621.96,-255.15\"/>\n<polygon fill=\"black\" stroke=\"black\" points=\"623.66,-258.21 630.72,-250.32 620.28,-252.09 623.66,-258.21\"/>\n<text text-anchor=\"middle\" x=\"575.16\" y=\"-299.8\" font-family=\"Times,serif\" font-size=\"14.00\">W10=&#45;0.17</text>\n</g>\n<!-- L2_2&#45;&gt;L3_0 -->\n<g id=\"edge31\" class=\"edge\">\n<title>L2_2&#45;&gt;L3_0</title>\n<path fill=\"none\" stroke=\"black\" d=\"M511.9,-417.13C538.76,-390.23 576.49,-351.26 607.16,-315 617.87,-302.34 628.89,-288.12 638.78,-274.87\"/>\n<polygon fill=\"black\" stroke=\"black\" points=\"641.65,-276.89 644.78,-266.77 636.02,-272.72 641.65,-276.89\"/>\n<text text-anchor=\"middle\" x=\"575.16\" y=\"-386.8\" font-family=\"Times,serif\" font-size=\"14.00\">W20=&#45;0.9</text>\n</g>\n<!-- L2_3&#45;&gt;L3_0 -->\n<g id=\"edge32\" class=\"edge\">\n<title>L2_3&#45;&gt;L3_0</title>\n<path fill=\"none\" stroke=\"black\" d=\"M517.42,-227C545.43,-227 583.29,-227 614.65,-227\"/>\n<polygon fill=\"black\" stroke=\"black\" points=\"615.01,-230.5 625.01,-227 615.01,-223.5 615.01,-230.5\"/>\n<text text-anchor=\"middle\" x=\"575.16\" y=\"-230.8\" font-family=\"Times,serif\" font-size=\"14.00\">W30=0.85</text>\n</g>\n<g id=\"node13\" class=\"node\">\n<title></title>\n</g>\n<!-- &#45;&gt;I0 -->\n<!-- &#45;&gt;L1_0 -->\n<!-- &#45;&gt;L3_0 -->\n</g>\n</svg>\n",
            "text/plain": [
              "<graphviz.graphs.Digraph at 0x7a0ce9104a10>"
            ]
          },
          "metadata": {}
        },
        {
          "output_type": "execute_result",
          "data": {
            "text/plain": [
              "Neural network visualization displayed."
            ]
          },
          "metadata": {},
          "execution_count": 135
        }
      ]
    },
    {
      "cell_type": "markdown",
      "source": [
        "#let's use it with a real data"
      ],
      "metadata": {
        "id": "S66yBPGMrXhk"
      }
    },
    {
      "cell_type": "code",
      "source": [],
      "metadata": {
        "id": "RAEWRcgAf5HP"
      },
      "execution_count": null,
      "outputs": []
    }
  ]
}